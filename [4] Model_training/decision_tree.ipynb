{
 "cells": [
  {
   "cell_type": "markdown",
   "id": "50a8f9f2",
   "metadata": {},
   "source": [
    "## Decision Tree"
   ]
  },
  {
   "cell_type": "code",
   "execution_count": 3,
   "id": "579f0b9a",
   "metadata": {},
   "outputs": [],
   "source": [
    "import pandas as pd\n",
    "from sklearn.tree import DecisionTreeClassifier\n",
    "from sklearn.ensemble import RandomForestClassifier\n",
    "from sklearn.model_selection import RandomizedSearchCV\n",
    "from sklearn.metrics import accuracy_score, precision_score, recall_score, f1_score\n",
    "from scipy.stats import randint\n",
    "import joblib\n",
    "\n",
    "# Load data\n",
    "train = pd.read_csv(r'C:\\Users\\cheng\\Documents\\GitHub\\Data_Mining_Project\\UMA_IE500_Data_Mining\\full dataset preparation and baseline model evaluation\\train_data.csv')\n",
    "val = pd.read_csv(r'C:\\Users\\cheng\\Documents\\GitHub\\Data_Mining_Project\\UMA_IE500_Data_Mining\\full dataset preparation and baseline model evaluation\\val_data.csv')\n",
    "\n",
    "X_train = train.drop('is_canceled', axis=1)\n",
    "y_train = train['is_canceled']\n",
    "\n",
    "X_val = val.drop('is_canceled', axis=1)\n",
    "y_val = val['is_canceled']"
   ]
  },
  {
   "cell_type": "code",
   "execution_count": 2,
   "id": "f0d4e323",
   "metadata": {},
   "outputs": [
    {
     "name": "stdout",
     "output_type": "stream",
     "text": [
      "=== Decision Tree ===\n",
      "Accuracy: 0.8572\n",
      "Precision: 0.8060\n",
      "Recall: 0.8147\n",
      "F1 Score: 0.8103\n"
     ]
    }
   ],
   "source": [
    "# ================ Decision Tree ================\n",
    "print(\"=== Decision Tree ===\")\n",
    "dt = DecisionTreeClassifier(random_state=42)\n",
    "dt.fit(X_train, y_train)\n",
    "\n",
    "y_pred_dt = dt.predict(X_val)\n",
    "\n",
    "accuracy = accuracy_score(y_val, y_pred_dt)\n",
    "precision = precision_score(y_val, y_pred_dt)\n",
    "recall = recall_score(y_val, y_pred_dt)\n",
    "f1 = f1_score(y_val, y_pred_dt)\n",
    "\n",
    "print(f'Accuracy: {accuracy:.4f}')\n",
    "print(f'Precision: {precision:.4f}')\n",
    "print(f'Recall: {recall:.4f}')\n",
    "print(f'F1 Score: {f1:.4f}')"
   ]
  },
  {
   "cell_type": "code",
   "execution_count": 4,
   "id": "56222132",
   "metadata": {},
   "outputs": [
    {
     "name": "stdout",
     "output_type": "stream",
     "text": [
      "Decision Tree model saved as decision_tree_model.pkl\n"
     ]
    }
   ],
   "source": [
    "# Save Decision Tree model\n",
    "joblib.dump(dt, 'decision_tree_model.pkl')\n",
    "print(\"Decision Tree model saved as decision_tree_model.pkl\")"
   ]
  }
 ],
 "metadata": {
  "kernelspec": {
   "display_name": "Python 3",
   "language": "python",
   "name": "python3"
  },
  "language_info": {
   "codemirror_mode": {
    "name": "ipython",
    "version": 3
   },
   "file_extension": ".py",
   "mimetype": "text/x-python",
   "name": "python",
   "nbconvert_exporter": "python",
   "pygments_lexer": "ipython3",
   "version": "3.9.10"
  }
 },
 "nbformat": 4,
 "nbformat_minor": 5
}
