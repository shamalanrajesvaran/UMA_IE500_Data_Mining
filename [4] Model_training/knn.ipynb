{
 "cells": [
  {
   "cell_type": "code",
   "execution_count": 33,
   "id": "e9dc8a28",
   "metadata": {},
   "outputs": [],
   "source": [
    "import pandas as pd\n",
    "import numpy as np\n",
    "from scipy.stats import randint\n",
    "from sklearn.neighbors import KNeighborsClassifier\n",
    "from sklearn.model_selection import RandomizedSearchCV, StratifiedKFold\n",
    "from sklearn.metrics import (\n",
    "    accuracy_score,\n",
    "    precision_score,\n",
    "    recall_score,\n",
    "    f1_score,\n",
    "    classification_report,\n",
    "    confusion_matrix\n",
    ")\n",
    "\n",
    "import joblib"
   ]
  },
  {
   "cell_type": "code",
   "execution_count": 34,
   "id": "e5df7f98",
   "metadata": {},
   "outputs": [],
   "source": [
    "file_train = \"/Users/bofanchen/Desktop/data_mining/[3] full dataset preparation and baseline model evaluation/train_data.csv\"\n",
    "file_val = \"/Users/bofanchen/Desktop/data_mining/[3] full dataset preparation and baseline model evaluation/val_data.csv\"\n",
    "\n",
    "\n",
    "train = pd.read_csv(file_train)\n",
    "val = pd.read_csv(file_val)\n",
    "\n",
    "X_train, y_train = train.drop(\"is_canceled\", axis=1), train[\"is_canceled\"]\n",
    "X_val, y_val = val.drop(\"is_canceled\", axis=1), val[\"is_canceled\"]"
   ]
  },
  {
   "cell_type": "code",
   "execution_count": 35,
   "id": "cf60c97e",
   "metadata": {},
   "outputs": [
    {
     "name": "stdout",
     "output_type": "stream",
     "text": [
      "Accuracy: 0.806667783548333\n",
      "Precision: 0.7640065146579804\n",
      "Recall: 0.6997315035799523\n",
      "F1 Score: 0.7304578013080038\n",
      "\n",
      "Classification Report:\n",
      "               precision    recall  f1-score   support\n",
      "\n",
      "         0.0       0.83      0.87      0.85     11203\n",
      "         1.0       0.76      0.70      0.73      6704\n",
      "\n",
      "    accuracy                           0.81     17907\n",
      "   macro avg       0.80      0.79      0.79     17907\n",
      "weighted avg       0.80      0.81      0.80     17907\n",
      "\n"
     ]
    }
   ],
   "source": [
    "knn = KNeighborsClassifier(n_neighbors=5, weights='uniform')\n",
    "knn.fit(X_train, y_train)\n",
    "\n",
    "y_pred = knn.predict(X_val)\n",
    "\n",
    "print(\"Accuracy:\", accuracy_score(y_val, y_pred))\n",
    "print(\"Precision:\", precision_score(y_val, y_pred))\n",
    "print(\"Recall:\", recall_score(y_val, y_pred))\n",
    "print(\"F1 Score:\", f1_score(y_val, y_pred))\n",
    "print(\"\\nClassification Report:\\n\", classification_report(y_val, y_pred))\n"
   ]
  },
  {
   "cell_type": "code",
   "execution_count": 36,
   "id": "fde751a0",
   "metadata": {},
   "outputs": [
    {
     "name": "stdout",
     "output_type": "stream",
     "text": [
      "Fitting 5 folds for each of 50 candidates, totalling 250 fits\n"
     ]
    },
    {
     "name": "stdout",
     "output_type": "stream",
     "text": [
      "Best F1 (CV): 0.7617\n",
      "Best hyper-parameters: {'weights': 'distance', 'p': 2, 'n_neighbors': np.int64(39), 'metric': 'manhattan', 'leaf_size': np.int64(50)}\n",
      "\n",
      "Validation Accuracy: 0.8483\n",
      "Validation Precision: 0.8478\n",
      "Validation Recall: 0.7251\n",
      "Validation F1 Score: 0.7816\n",
      "\n",
      "Classification report:\n",
      "              precision    recall  f1-score   support\n",
      "\n",
      "         0.0      0.849     0.922     0.884     11203\n",
      "         1.0      0.848     0.725     0.782      6704\n",
      "\n",
      "    accuracy                          0.848     17907\n",
      "   macro avg      0.848     0.824     0.833     17907\n",
      "weighted avg      0.848     0.848     0.846     17907\n",
      "\n",
      "Confusion matrix:\n",
      "[[10330   873]\n",
      " [ 1843  4861]]\n"
     ]
    }
   ],
   "source": [
    "knn = KNeighborsClassifier()\n",
    "\n",
    "param_distributions = {\n",
    "    \"n_neighbors\":  np.arange(1, 51),\n",
    "    \"weights\":      [\"uniform\", \"distance\"],\n",
    "    \"metric\":       [\"euclidean\", \"manhattan\", \"minkowski\"],\n",
    "    \"p\":            [1, 2],\n",
    "    \"leaf_size\":    np.arange(15, 61, 5)\n",
    "}\n",
    "\n",
    "\n",
    "cv = StratifiedKFold(n_splits=5, shuffle=True, random_state=42)\n",
    "\n",
    "rand_search = RandomizedSearchCV(\n",
    "    estimator            = knn,\n",
    "    param_distributions   = param_distributions,\n",
    "    n_iter               = 50,\n",
    "    scoring              = \"f1\",\n",
    "    cv                   = cv,\n",
    "    n_jobs               = -1,\n",
    "    random_state         = 42,\n",
    "    verbose              = 1\n",
    ")\n",
    "\n",
    "\n",
    "rand_search.fit(X_train, y_train)\n",
    "\n",
    "print(f\"Best F1 (CV): {rand_search.best_score_:.4f}\")\n",
    "print(\"Best hyper-parameters:\", rand_search.best_params_)\n",
    "\n",
    "\n",
    "\n",
    "\n",
    "best_knn = rand_search.best_estimator_\n",
    "\n",
    "y_pred   = best_knn.predict(X_val)\n",
    "\n",
    "\n",
    "val_accuracy = accuracy_score(y_val, y_pred)\n",
    "val_precision = precision_score(y_val, y_pred)\n",
    "val_recall = recall_score(y_val, y_pred)\n",
    "val_f1 = f1_score(y_val, y_pred)\n",
    "\n",
    "print(f\"\\nValidation Accuracy: {val_accuracy:.4f}\")\n",
    "print(f\"Validation Precision: {val_precision:.4f}\")\n",
    "print(f\"Validation Recall: {val_recall:.4f}\")\n",
    "print(f\"Validation F1 Score: {val_f1:.4f}\\n\")\n",
    "\n",
    "print(\"Classification report:\")\n",
    "print(classification_report(y_val, y_pred, digits=3))\n",
    "print(\"Confusion matrix:\")\n",
    "print(confusion_matrix(y_val, y_pred))"
   ]
  },
  {
   "cell_type": "code",
   "execution_count": 37,
   "id": "c7fc6bdc",
   "metadata": {},
   "outputs": [
    {
     "data": {
      "text/plain": [
       "['knn_model.joblib']"
      ]
     },
     "execution_count": 37,
     "metadata": {},
     "output_type": "execute_result"
    }
   ],
   "source": [
    "joblib.dump(best_knn, \"knn_model.joblib\")"
   ]
  }
 ],
 "metadata": {
  "kernelspec": {
   "display_name": ".venv",
   "language": "python",
   "name": "python3"
  },
  "language_info": {
   "codemirror_mode": {
    "name": "ipython",
    "version": 3
   },
   "file_extension": ".py",
   "mimetype": "text/x-python",
   "name": "python",
   "nbconvert_exporter": "python",
   "pygments_lexer": "ipython3",
   "version": "3.13.2"
  }
 },
 "nbformat": 4,
 "nbformat_minor": 5
}
