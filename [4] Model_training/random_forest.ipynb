{
 "cells": [
  {
   "cell_type": "markdown",
   "id": "b2aae3dc",
   "metadata": {},
   "source": [
    "## Random Forest"
   ]
  },
  {
   "cell_type": "code",
   "execution_count": 1,
   "id": "399163e6",
   "metadata": {},
   "outputs": [],
   "source": [
    "import pandas as pd\n",
    "from sklearn.tree import DecisionTreeClassifier\n",
    "from sklearn.ensemble import RandomForestClassifier\n",
    "from sklearn.model_selection import RandomizedSearchCV\n",
    "from sklearn.metrics import accuracy_score, precision_score, recall_score, f1_score\n",
    "from scipy.stats import randint\n",
    "import joblib\n",
    "\n",
    "# Load data\n",
    "train = pd.read_csv(r'C:\\Users\\cheng\\Documents\\GitHub\\Data_Mining_Project\\UMA_IE500_Data_Mining\\full dataset preparation and baseline model evaluation\\train_data.csv')\n",
    "val = pd.read_csv(r'C:\\Users\\cheng\\Documents\\GitHub\\Data_Mining_Project\\UMA_IE500_Data_Mining\\full dataset preparation and baseline model evaluation\\val_data.csv')\n",
    "\n",
    "X_train = train.drop('is_canceled', axis=1)\n",
    "y_train = train['is_canceled']\n",
    "\n",
    "X_val = val.drop('is_canceled', axis=1)\n",
    "y_val = val['is_canceled']"
   ]
  },
  {
   "cell_type": "code",
   "execution_count": 4,
   "id": "b7c29986",
   "metadata": {},
   "outputs": [
    {
     "name": "stdout",
     "output_type": "stream",
     "text": [
      "\n",
      "=== Random Forest (Randomized Search) ===\n",
      "Fitting 5 folds for each of 50 candidates, totalling 250 fits\n",
      "Best Params: {'bootstrap': False, 'max_depth': 34, 'min_samples_leaf': 1, 'min_samples_split': 4, 'n_estimators': 158}\n",
      "Accuracy: 0.8971\n",
      "Precision: 0.8937\n",
      "Recall: 0.8231\n",
      "F1 Score: 0.8570\n"
     ]
    }
   ],
   "source": [
    "print(\"\\n=== Random Forest (Randomized Search) ===\")\n",
    "rf = RandomForestClassifier(random_state=42)\n",
    "\n",
    "param_dist = {\n",
    "    'n_estimators': randint(100, 300),          # more trees, stabilizes performance\n",
    "    'max_depth': randint(10, 50),               # allow deeper trees (but avoid overfitting)\n",
    "    'min_samples_split': randint(2, 10),        # smaller → allow splits → better recall\n",
    "    'min_samples_leaf': randint(1, 5),          # smaller → more granular → better recall\n",
    "    'bootstrap': [True, False]\n",
    "}\n",
    "\n",
    "random_search = RandomizedSearchCV(\n",
    "    rf,\n",
    "    param_distributions=param_dist,\n",
    "    n_iter=50,\n",
    "    scoring='recall',  # prioritize recall\n",
    "    cv=5,\n",
    "    verbose=1,\n",
    "    random_state=42,\n",
    "    n_jobs=-1\n",
    ")\n",
    "\n",
    "random_search.fit(X_train, y_train)\n",
    "\n",
    "print(\"Best Params:\", random_search.best_params_)\n",
    "\n",
    "best_rf = random_search.best_estimator_\n",
    "y_pred_rf = best_rf.predict(X_val)\n",
    "\n",
    "accuracy = accuracy_score(y_val, y_pred_rf)\n",
    "precision = precision_score(y_val, y_pred_rf)\n",
    "recall = recall_score(y_val, y_pred_rf)\n",
    "f1 = f1_score(y_val, y_pred_rf)\n",
    "\n",
    "print(f'Accuracy: {accuracy:.4f}')\n",
    "print(f'Precision: {precision:.4f}')\n",
    "print(f'Recall: {recall:.4f}')\n",
    "print(f'F1 Score: {f1:.4f}')"
   ]
  },
  {
   "cell_type": "code",
   "execution_count": 5,
   "id": "a93c033b",
   "metadata": {},
   "outputs": [
    {
     "name": "stdout",
     "output_type": "stream",
     "text": [
      "Random Forest model saved as random_forest_best_model.pkl\n"
     ]
    }
   ],
   "source": [
    "# Save Random Forest best model\n",
    "joblib.dump(best_rf, 'random_forest_best_model.pkl')\n",
    "print(\"Random Forest model saved as random_forest_best_model.pkl\")"
   ]
  }
 ],
 "metadata": {
  "kernelspec": {
   "display_name": "Python 3",
   "language": "python",
   "name": "python3"
  },
  "language_info": {
   "codemirror_mode": {
    "name": "ipython",
    "version": 3
   },
   "file_extension": ".py",
   "mimetype": "text/x-python",
   "name": "python",
   "nbconvert_exporter": "python",
   "pygments_lexer": "ipython3",
   "version": "3.9.10"
  }
 },
 "nbformat": 4,
 "nbformat_minor": 5
}
