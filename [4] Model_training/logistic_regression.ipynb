{
 "cells": [
  {
   "cell_type": "code",
   "execution_count": 9,
   "id": "df7900f1",
   "metadata": {},
   "outputs": [],
   "source": [
    "import pandas as pd\n",
    "from pathlib import Path\n",
    "from sklearn.linear_model import LogisticRegression\n",
    "from sklearn.model_selection import RandomizedSearchCV\n",
    "from sklearn.metrics import classification_report, roc_auc_score, f1_score\n",
    "from scipy.stats import loguniform"
   ]
  },
  {
   "cell_type": "code",
   "execution_count": null,
   "id": "393650c0",
   "metadata": {},
   "outputs": [
    {
     "name": "stdout",
     "output_type": "stream",
     "text": [
      "Best hyperparameters:\n",
      "{'C': 62.20025976819163, 'penalty': 'l2', 'solver': 'saga'}\n",
      "\n",
      "Validation Classification Report:\n",
      "              precision    recall  f1-score   support\n",
      "\n",
      "         0.0       0.84      0.91      0.87     11203\n",
      "         1.0       0.82      0.71      0.76      6704\n",
      "\n",
      "    accuracy                           0.83     17907\n",
      "   macro avg       0.83      0.81      0.82     17907\n",
      "weighted avg       0.83      0.83      0.83     17907\n",
      "\n",
      "Validation ROC AUC: 0.9112\n",
      "Validation F1 Score: 0.7629\n",
      "\n",
      "Holdout Classification Report:\n",
      "              precision    recall  f1-score   support\n",
      "\n",
      "         0.0       0.85      0.91      0.88     11274\n",
      "         1.0       0.83      0.72      0.77      6635\n",
      "\n",
      "    accuracy                           0.84     17909\n",
      "   macro avg       0.84      0.81      0.82     17909\n",
      "weighted avg       0.84      0.84      0.84     17909\n",
      "\n",
      "Holdout ROC AUC: 0.9119\n",
      "Holdout F1 Score: 0.7669\n"
     ]
    }
   ],
   "source": [
    "\n",
    "train_df = pd.read_csv('train_data.csv')\n",
    "val_df = pd.read_csv('val_data.csv')\n",
    "holdout_df = pd.read_csv('holdout_test_data.csv')\n",
    "\n",
    "\n",
    "target_col = 'is_canceled'\n",
    "feature_cols = [c for c in train_df.columns if c != target_col]\n",
    "X_train, y_train = train_df[feature_cols], train_df[target_col]\n",
    "X_val, y_val = val_df[feature_cols], val_df[target_col]\n",
    "X_holdout, y_holdout = holdout_df[feature_cols], holdout_df[target_col]\n",
    "\n",
    "base_clf = LogisticRegression(max_iter=1000, random_state=42)\n",
    "param_dist = {\n",
    "    'C': loguniform(1e-4, 1e2),\n",
    "    'penalty': ['l1', 'l2'],\n",
    "    'solver': ['liblinear', 'saga']\n",
    "}\n",
    "random_search = RandomizedSearchCV(\n",
    "    estimator=base_clf,\n",
    "    param_distributions=param_dist,\n",
    "    n_iter=20,\n",
    "    cv=5,\n",
    "    scoring='roc_auc',\n",
    "    random_state=42,\n",
    "    n_jobs=-1\n",
    ")\n",
    "\n",
    "random_search.fit(X_train, y_train)\n",
    "\n",
    "print(\"Best hyperparameters:\")\n",
    "print(random_search.best_params_)\n",
    "\n",
    "best_clf = random_search.best_estimator_\n",
    "val_preds = best_clf.predict(X_val)\n",
    "val_probs = best_clf.predict_proba(X_val)[:, 1]\n",
    "print(\"\\nValidation Classification Report:\")\n",
    "print(classification_report(y_val, val_preds))\n",
    "print(f\"Validation ROC AUC: {roc_auc_score(y_val, val_probs):.4f}\")\n",
    "print(f\"Validation F1 Score: {f1_score(y_val, val_preds):.4f}\")\n",
    "\n",
    "holdout_probs = best_clf.predict_proba(X_holdout)[:, 1]\n",
    "holdout_preds = (holdout_probs >= 0.5).astype(int)\n",
    "holdout_df['predicted_prob_is_canceled'] = holdout_probs\n",
    "print(\"\\nHoldout Classification Report:\")\n",
    "print(classification_report(y_holdout, holdout_preds))\n",
    "print(f\"Holdout ROC AUC: {roc_auc_score(y_holdout, holdout_probs):.4f}\")\n",
    "print(f\"Holdout F1 Score: {f1_score(y_holdout, holdout_preds):.4f}\")\n",
    "\n"
   ]
  }
 ],
 "metadata": {
  "kernelspec": {
   "display_name": "finfun",
   "language": "python",
   "name": "python3"
  },
  "language_info": {
   "codemirror_mode": {
    "name": "ipython",
    "version": 3
   },
   "file_extension": ".py",
   "mimetype": "text/x-python",
   "name": "python",
   "nbconvert_exporter": "python",
   "pygments_lexer": "ipython3",
   "version": "3.12.0"
  }
 },
 "nbformat": 4,
 "nbformat_minor": 5
}
