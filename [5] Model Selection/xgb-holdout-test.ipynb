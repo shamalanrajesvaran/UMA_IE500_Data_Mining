{
 "cells": [
  {
   "cell_type": "code",
   "execution_count": 2,
   "metadata": {},
   "outputs": [
    {
     "name": "stdout",
     "output_type": "stream",
     "text": [
      "Classification Report:\n",
      "\n",
      "              precision    recall  f1-score   support\n",
      "\n",
      "         0.0       0.90      0.93      0.91     11274\n",
      "         1.0       0.87      0.82      0.84      6635\n",
      "\n",
      "    accuracy                           0.89     17909\n",
      "   macro avg       0.88      0.87      0.88     17909\n",
      "weighted avg       0.89      0.89      0.89     17909\n",
      "\n",
      "Confusion Matrix:\n",
      "[[10430   844]\n",
      " [ 1175  5460]]\n",
      "ROC-AUC Score: 0.9567\n"
     ]
    }
   ],
   "source": [
    "import pickle\n",
    "import pandas as pd\n",
    "from sklearn.metrics import classification_report, confusion_matrix, roc_auc_score\n",
    "\n",
    "with open(r\"/Users/shamalan/Documents/Projects/SEM-2/Data Mining/Project/UMA_IE500_Data_Mining/[4] Model_training/best_xgb_model.pkl\", \"rb\") as f:\n",
    "    loaded_model = pickle.load(f)\n",
    "\n",
    "# Test set\n",
    "test_data = pd.read_csv(r\"/Users/shamalan/Documents/Projects/SEM-2/Data Mining/Project/UMA_IE500_Data_Mining/[3] full dataset preparation and baseline model evaluation/holdout_test_data.csv\")\n",
    "\n",
    "X_test = test_data.drop(columns=['is_canceled'])\n",
    "y_test = test_data['is_canceled']\n",
    "\n",
    "y_pred = loaded_model.predict(X_test)\n",
    "y_probs = loaded_model.predict_proba(X_test)[:, 1]\n",
    "\n",
    "# Evaluate the model\n",
    "print(\"Classification Report:\\n\")\n",
    "print(classification_report(y_test, y_pred))\n",
    "\n",
    "print(\"Confusion Matrix:\")\n",
    "print(confusion_matrix(y_test, y_pred))\n",
    "\n",
    "print(f\"ROC-AUC Score: {roc_auc_score(y_test, y_probs):.4f}\")\n"
   ]
  }
 ],
 "metadata": {
  "kernelspec": {
   "display_name": "dminingproj",
   "language": "python",
   "name": "python3"
  },
  "language_info": {
   "codemirror_mode": {
    "name": "ipython",
    "version": 3
   },
   "file_extension": ".py",
   "mimetype": "text/x-python",
   "name": "python",
   "nbconvert_exporter": "python",
   "pygments_lexer": "ipython3",
   "version": "3.13.0"
  }
 },
 "nbformat": 4,
 "nbformat_minor": 2
}
