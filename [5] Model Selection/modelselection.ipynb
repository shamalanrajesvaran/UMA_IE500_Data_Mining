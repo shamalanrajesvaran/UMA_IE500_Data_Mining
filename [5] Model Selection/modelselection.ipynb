{
 "cells": [
  {
   "cell_type": "code",
   "execution_count": null,
   "metadata": {},
   "outputs": [],
   "source": [
    "import pickle\n",
    "import pandas as pd\n",
    "from sklearn.metrics import classification_report, confusion_matrix, roc_auc_score\n",
    "\n",
    "with open(\"best_xgb_model.pkl\", \"rb\") as f:\n",
    "    loaded_model = pickle.load(f)\n",
    "\n",
    "# Test set\n",
    "test_data = pd.read_csv(\"test_data.csv\")\n",
    "\n",
    "X_test = test_data.drop(columns=['is_canceled'])\n",
    "y_test = test_data['is_canceled']\n",
    "\n",
    "y_pred = loaded_model.predict(X_test)\n",
    "y_probs = loaded_model.predict_proba(X_test)[:, 1]\n",
    "\n",
    "# Evaluate the model\n",
    "print(\"Classification Report:\\n\")\n",
    "print(classification_report(y_test, y_pred))\n",
    "\n",
    "print(\"Confusion Matrix:\")\n",
    "print(confusion_matrix(y_test, y_pred))\n",
    "\n",
    "print(f\"ROC-AUC Score: {roc_auc_score(y_test, y_probs):.4f}\")\n"
   ]
  }
 ],
 "metadata": {
  "language_info": {
   "name": "python"
  }
 },
 "nbformat": 4,
 "nbformat_minor": 2
}
